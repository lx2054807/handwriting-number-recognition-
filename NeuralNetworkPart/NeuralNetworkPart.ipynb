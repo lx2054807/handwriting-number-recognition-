{
 "cells": [
  {
   "cell_type": "code",
   "execution_count": 196,
   "metadata": {},
   "outputs": [
    {
     "name": "stdout",
     "output_type": "stream",
     "text": [
      "Extracting lixin/train-images-idx3-ubyte.gz\n",
      "Extracting lixin/train-labels-idx1-ubyte.gz\n",
      "Extracting lixin/t10k-images-idx3-ubyte.gz\n",
      "Extracting lixin/t10k-labels-idx1-ubyte.gz\n"
     ]
    }
   ],
   "source": [
    "from __future__ import print_function\n",
    "import numpy as np\n",
    "import tensorflow as tf\n",
    "# Plot ad hoc mnist instances\n",
    "from keras.datasets import mnist\n",
    "import matplotlib.pyplot as plt\n",
    "%matplotlib inline\n",
    "\n",
    "from tensorflow.examples.tutorials.mnist import input_data\n",
    "mnist = input_data.read_data_sets(\"lixin/\", one_hot=True)"
   ]
  },
  {
   "cell_type": "code",
   "execution_count": 399,
   "metadata": {
    "collapsed": true
   },
   "outputs": [],
   "source": [
    "# Network Parameters \n",
    "n_input = 784\n",
    "hidden_layer_neurons = 300\n",
    "n_classes = 10\n",
    "\n",
    "# Training Parameters\n",
    "learning_rate = 1.6\n",
    "training_epochs = 30000\n",
    "batch_size = 50"
   ]
  },
  {
   "cell_type": "code",
   "execution_count": 400,
   "metadata": {
    "collapsed": true
   },
   "outputs": [],
   "source": [
    "# x and y placeholders\n",
    "x = tf.placeholder(\"float\", [None, n_input])\n",
    "y = tf.placeholder(\"float\", [None, n_classes])\n",
    "# Create weights and biases that will be used in the neural network\n",
    "w1 = tf.Variable(tf.random_normal([n_input, hidden_layer_neurons]))\n",
    "w2 = tf.Variable(tf.random_normal([hidden_layer_neurons, n_classes]))\n",
    "b1 = tf.Variable(tf.random_normal([hidden_layer_neurons]))\n",
    "b2 = tf.Variable(tf.random_normal([n_classes]))\n",
    "# The multilayer perceptron model\n",
    "hidden_layer = tf.nn.sigmoid(tf.add(tf.matmul(x, w1), b1))\n",
    "output_layer = tf.add(tf.matmul(hidden_layer, w2), b2)"
   ]
  },
  {
   "cell_type": "code",
   "execution_count": 401,
   "metadata": {},
   "outputs": [],
   "source": [
    "# Cost funcition and optimizer\n",
    "cost = tf.reduce_mean(tf.nn.softmax_cross_entropy_with_logits(logits=output_layer, labels=y))\n",
    "optimizer = tf.train.GradientDescentOptimizer(learning_rate=learning_rate).minimize(cost)"
   ]
  },
  {
   "cell_type": "code",
   "execution_count": 402,
   "metadata": {
    "collapsed": true
   },
   "outputs": [],
   "source": [
    "# Define the Test model and accuracy\n",
    "correct_prediction = tf.equal(tf.argmax(output_layer, 1), tf.argmax(y, 1))\n",
    "correct_prediction = tf.cast(correct_prediction, \"float\")\n",
    "accuracy = tf.reduce_mean(correct_prediction)"
   ]
  },
  {
   "cell_type": "code",
   "execution_count": 403,
   "metadata": {
    "collapsed": true
   },
   "outputs": [],
   "source": [
    "# Launch the session\n",
    "sess = tf.InteractiveSession()\n",
    "\n",
    "# Initialize variables\n",
    "init = tf.global_variables_initializer()\n",
    "\n",
    "# Start session\n",
    "sess.run(init)"
   ]
  },
  {
   "cell_type": "code",
   "execution_count": 404,
   "metadata": {},
   "outputs": [],
   "source": [
    "# Accuracies arrays to create a plot\n",
    "train_accuracies = []\n",
    "validation_accuracies = []\n",
    "epoc_iteration = []\n",
    "\n",
    "# Run the session, save the accuracies\n",
    "for epoch in range(training_epochs):    \n",
    "    batch_x, batch_y = mnist.train.next_batch(batch_size)\n",
    "    if (epoch+1) < 100 or (epoch+1) % 100 == 0:\n",
    "        train_ac = accuracy.eval({x: batch_x, y: batch_y})\n",
    "        validation_ac = accuracy.eval({x: mnist.validation.images, \n",
    "                                       y: mnist.validation.labels})\n",
    "        epoc_iteration.append(epoch+1)\n",
    "        train_accuracies.append(train_ac)\n",
    "        validation_accuracies.append(validation_ac)\n",
    "    sess.run([optimizer, cost], feed_dict={x: batch_x, y: batch_y})"
   ]
  },
  {
   "cell_type": "code",
   "execution_count": 405,
   "metadata": {},
   "outputs": [
    {
     "data": {
      "text/plain": [
       "Text(0.5,1,u'Training and Validation accuracy')"
      ]
     },
     "execution_count": 405,
     "metadata": {},
     "output_type": "execute_result"
    },
    {
     "data": {
      "image/png": "[encoded data removed]",
      "text/plain": [
       "<matplotlib.figure.Figure at 0x1c6145df50>"
      ]
     },
     "metadata": {},
     "output_type": "display_data"
    }
   ],
   "source": [
    "fig = plt.figure(figsize=(10,7))\n",
    "axes1 = fig.add_axes([0.1, 0.1, 0.8, 0.8])\n",
    "\n",
    "# Plot full graph\n",
    "axes1.plot(epoc_iteration, train_accuracies,'-b', label='Training')\n",
    "axes1.plot(epoc_iteration, validation_accuracies,'-g', label='Validation')\n",
    "axes1.legend()\n",
    "axes1.set_xlabel('Epoch')\n",
    "axes1.set_ylabel('Accuracy')\n",
    "axes1.set_title('Training and Validation accuracy')"
   ]
  },
  {
   "cell_type": "code",
   "execution_count": 406,
   "metadata": {},
   "outputs": [
    {
     "name": "stdout",
     "output_type": "stream",
     "text": [
      "Validation Accuracy: 0.967\n",
      "Test Accuracy: 0.9645\n"
     ]
    }
   ],
   "source": [
    "# Print final accuracies\n",
    "print(\"Validation Accuracy:\", accuracy.eval({x: mnist.validation.images, y: mnist.validation.labels}))\n",
    "print(\"Test Accuracy:\", accuracy.eval({x: mnist.test.images, y: mnist.test.labels}))"
   ]
  }
 ],
 "metadata": {
  "kernelspec": {
   "display_name": "Python 2",
   "language": "python",
   "name": "python2"
  },
  "language_info": {
   "codemirror_mode": {
    "name": "ipython",
    "version": 2
   },
   "file_extension": ".py",
   "mimetype": "text/x-python",
   "name": "python",
   "nbconvert_exporter": "python",
   "pygments_lexer": "ipython2",
   "version": "2.7.14"
  }
 },
 "nbformat": 4,
 "nbformat_minor": 2
}
